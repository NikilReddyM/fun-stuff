{
 "cells": [
  {
   "cell_type": "markdown",
   "metadata": {},
   "source": [
    "# Twitter API"
   ]
  },
  {
   "cell_type": "markdown",
   "metadata": {},
   "source": [
    "first create an app(https://apps.twitter.com/). details of how to create an app can be viewed here(https://iag.me/socialmedia/how-to-create-a-twitter-app-in-8-easy-steps/)"
   ]
  },
  {
   "cell_type": "markdown",
   "metadata": {},
   "source": [
    "once app is created, collect info about Consumer key, Consumer secret, Access Token, Access Token Secret which can be used as credentials to connect to twitter api."
   ]
  },
  {
   "cell_type": "code",
   "execution_count": 5,
   "metadata": {},
   "outputs": [],
   "source": [
    "consumer_key =\"92KKr0jL02WAPH1G6Zq3FlZtb\"\n",
    "consumer_secret=\"ZcaZDIeoS6nPaBtyWW5T2MiMoXat12ILN4ECSh4vz7SI1fQPcq\"\n",
    "access_token=\"881222655000559616-4WQPzinZ28Kr4ZHooXc1GGwE5x7OkUf\"\n",
    "access_token_secret=\"WW3Zdrf8JXbzLnqdTuuUIQDzyMbW9jGf0zj9CssNVmZL2\""
   ]
  },
  {
   "cell_type": "markdown",
   "metadata": {},
   "source": [
    "Twitter uses OAuth to provide authorized access to its API."
   ]
  },
  {
   "cell_type": "markdown",
   "metadata": {},
   "source": [
    "### imports for twitter API"
   ]
  },
  {
   "cell_type": "markdown",
   "metadata": {},
   "source": [
    "tweepy is an easy-to-use Python library for accessing the Twitter API."
   ]
  },
  {
   "cell_type": "code",
   "execution_count": 6,
   "metadata": {},
   "outputs": [],
   "source": [
    "import tweepy"
   ]
  },
  {
   "cell_type": "markdown",
   "metadata": {},
   "source": [
    "### Authentication"
   ]
  },
  {
   "cell_type": "markdown",
   "metadata": {
    "slideshow": {
     "slide_type": "slide"
    }
   },
   "source": [
    "To re-build an OAuthHandler everytime you request data from twitter, you would do this:"
   ]
  },
  {
   "cell_type": "code",
   "execution_count": 7,
   "metadata": {},
   "outputs": [],
   "source": [
    "auth = tweepy.OAuthHandler(consumer_key, consumer_secret)\n",
    "auth.set_access_token(access_token, access_token_secret)"
   ]
  },
  {
   "cell_type": "markdown",
   "metadata": {},
   "source": [
    "now that we have our OAuthHandler equipped with an access token"
   ]
  },
  {
   "cell_type": "markdown",
   "metadata": {},
   "source": [
    "### usage"
   ]
  },
  {
   "cell_type": "markdown",
   "metadata": {},
   "source": [
    "connecting to twitter "
   ]
  },
  {
   "cell_type": "markdown",
   "metadata": {},
   "source": [
    "normally this points to my twitter profile. in own words, we get connection to my twitter profie."
   ]
  },
  {
   "cell_type": "code",
   "execution_count": 8,
   "metadata": {},
   "outputs": [],
   "source": [
    "api = tweepy.API(auth)"
   ]
  },
  {
   "cell_type": "markdown",
   "metadata": {},
   "source": [
    "to get info about my profile."
   ]
  },
  {
   "cell_type": "code",
   "execution_count": 9,
   "metadata": {},
   "outputs": [
    {
     "data": {
      "text/plain": [
       "tweepy.models.User"
      ]
     },
     "execution_count": 9,
     "metadata": {},
     "output_type": "execute_result"
    }
   ],
   "source": [
    "type(api.me())"
   ]
  },
  {
   "cell_type": "code",
   "execution_count": 10,
   "metadata": {},
   "outputs": [
    {
     "name": "stdout",
     "output_type": "stream",
     "text": [
      "User(_api=<tweepy.api.API object at 0x1083b61d0>, _json={'id': 881222655000559616, 'id_str': '881222655000559616', 'name': 'Nikilreddy M', 'screen_name': 'm_nikilreddy', 'location': '', 'profile_location': None, 'description': '', 'url': None, 'entities': {'description': {'urls': []}}, 'protected': False, 'followers_count': 12, 'friends_count': 78, 'listed_count': 0, 'created_at': 'Sat Jul 01 18:47:08 +0000 2017', 'favourites_count': 0, 'utc_offset': None, 'time_zone': None, 'geo_enabled': False, 'verified': False, 'statuses_count': 0, 'lang': 'en', 'contributors_enabled': False, 'is_translator': False, 'is_translation_enabled': False, 'profile_background_color': 'F5F8FA', 'profile_background_image_url': None, 'profile_background_image_url_https': None, 'profile_background_tile': False, 'profile_image_url': 'http://pbs.twimg.com/profile_images/1005850369841344512/E0A0k88W_normal.jpg', 'profile_image_url_https': 'https://pbs.twimg.com/profile_images/1005850369841344512/E0A0k88W_normal.jpg', 'profile_link_color': '1DA1F2', 'profile_sidebar_border_color': 'C0DEED', 'profile_sidebar_fill_color': 'DDEEF6', 'profile_text_color': '333333', 'profile_use_background_image': True, 'has_extended_profile': False, 'default_profile': True, 'default_profile_image': False, 'following': False, 'follow_request_sent': False, 'notifications': False, 'translator_type': 'none', 'suspended': False, 'needs_phone_verification': False}, id=881222655000559616, id_str='881222655000559616', name='Nikilreddy M', screen_name='m_nikilreddy', location='', profile_location=None, description='', url=None, entities={'description': {'urls': []}}, protected=False, followers_count=12, friends_count=78, listed_count=0, created_at=datetime.datetime(2017, 7, 1, 18, 47, 8), favourites_count=0, utc_offset=None, time_zone=None, geo_enabled=False, verified=False, statuses_count=0, lang='en', contributors_enabled=False, is_translator=False, is_translation_enabled=False, profile_background_color='F5F8FA', profile_background_image_url=None, profile_background_image_url_https=None, profile_background_tile=False, profile_image_url='http://pbs.twimg.com/profile_images/1005850369841344512/E0A0k88W_normal.jpg', profile_image_url_https='https://pbs.twimg.com/profile_images/1005850369841344512/E0A0k88W_normal.jpg', profile_link_color='1DA1F2', profile_sidebar_border_color='C0DEED', profile_sidebar_fill_color='DDEEF6', profile_text_color='333333', profile_use_background_image=True, has_extended_profile=False, default_profile=True, default_profile_image=False, following=False, follow_request_sent=False, notifications=False, translator_type='none', suspended=False, needs_phone_verification=False)\n"
     ]
    }
   ],
   "source": [
    "print(api.me())"
   ]
  },
  {
   "cell_type": "code",
   "execution_count": 11,
   "metadata": {},
   "outputs": [],
   "source": [
    "about_me = api.me()"
   ]
  },
  {
   "cell_type": "code",
   "execution_count": 12,
   "metadata": {},
   "outputs": [
    {
     "data": {
      "text/plain": [
       "{'contributors_enabled': False,\n",
       " 'created_at': 'Sat Jul 01 18:47:08 +0000 2017',\n",
       " 'default_profile': True,\n",
       " 'default_profile_image': False,\n",
       " 'description': '',\n",
       " 'entities': {'description': {'urls': []}},\n",
       " 'favourites_count': 0,\n",
       " 'follow_request_sent': False,\n",
       " 'followers_count': 12,\n",
       " 'following': False,\n",
       " 'friends_count': 78,\n",
       " 'geo_enabled': False,\n",
       " 'has_extended_profile': False,\n",
       " 'id': 881222655000559616,\n",
       " 'id_str': '881222655000559616',\n",
       " 'is_translation_enabled': False,\n",
       " 'is_translator': False,\n",
       " 'lang': 'en',\n",
       " 'listed_count': 0,\n",
       " 'location': '',\n",
       " 'name': 'Nikilreddy M',\n",
       " 'needs_phone_verification': False,\n",
       " 'notifications': False,\n",
       " 'profile_background_color': 'F5F8FA',\n",
       " 'profile_background_image_url': None,\n",
       " 'profile_background_image_url_https': None,\n",
       " 'profile_background_tile': False,\n",
       " 'profile_image_url': 'http://pbs.twimg.com/profile_images/1005850369841344512/E0A0k88W_normal.jpg',\n",
       " 'profile_image_url_https': 'https://pbs.twimg.com/profile_images/1005850369841344512/E0A0k88W_normal.jpg',\n",
       " 'profile_link_color': '1DA1F2',\n",
       " 'profile_location': None,\n",
       " 'profile_sidebar_border_color': 'C0DEED',\n",
       " 'profile_sidebar_fill_color': 'DDEEF6',\n",
       " 'profile_text_color': '333333',\n",
       " 'profile_use_background_image': True,\n",
       " 'protected': False,\n",
       " 'screen_name': 'm_nikilreddy',\n",
       " 'statuses_count': 0,\n",
       " 'suspended': False,\n",
       " 'time_zone': None,\n",
       " 'translator_type': 'none',\n",
       " 'url': None,\n",
       " 'utc_offset': None,\n",
       " 'verified': False}"
      ]
     },
     "execution_count": 12,
     "metadata": {},
     "output_type": "execute_result"
    }
   ],
   "source": [
    "about_me._json"
   ]
  },
  {
   "cell_type": "code",
   "execution_count": 13,
   "metadata": {},
   "outputs": [
    {
     "data": {
      "text/plain": [
       "'Nikilreddy M'"
      ]
     },
     "execution_count": 13,
     "metadata": {},
     "output_type": "execute_result"
    }
   ],
   "source": [
    "about_me._json['name']"
   ]
  },
  {
   "cell_type": "code",
   "execution_count": 14,
   "metadata": {},
   "outputs": [
    {
     "data": {
      "text/plain": [
       "12"
      ]
     },
     "execution_count": 14,
     "metadata": {},
     "output_type": "execute_result"
    }
   ],
   "source": [
    "about_me._json['followers_count']"
   ]
  },
  {
   "cell_type": "markdown",
   "metadata": {},
   "source": [
    "to get info about specific user"
   ]
  },
  {
   "cell_type": "code",
   "execution_count": 15,
   "metadata": {},
   "outputs": [],
   "source": [
    "user = api.get_user('shaileshreddyp')"
   ]
  },
  {
   "cell_type": "code",
   "execution_count": 16,
   "metadata": {},
   "outputs": [
    {
     "data": {
      "text/plain": [
       "{'contributors_enabled': False,\n",
       " 'created_at': 'Tue Apr 01 17:03:24 +0000 2014',\n",
       " 'default_profile': True,\n",
       " 'default_profile_image': False,\n",
       " 'description': '',\n",
       " 'entities': {'description': {'urls': []}},\n",
       " 'favourites_count': 98,\n",
       " 'follow_request_sent': False,\n",
       " 'followers_count': 7,\n",
       " 'following': True,\n",
       " 'friends_count': 28,\n",
       " 'geo_enabled': False,\n",
       " 'has_extended_profile': False,\n",
       " 'id': 2422393699,\n",
       " 'id_str': '2422393699',\n",
       " 'is_translation_enabled': False,\n",
       " 'is_translator': False,\n",
       " 'lang': 'en',\n",
       " 'listed_count': 0,\n",
       " 'location': '',\n",
       " 'name': 'Shailesh Reddy',\n",
       " 'notifications': False,\n",
       " 'profile_background_color': 'C0DEED',\n",
       " 'profile_background_image_url': 'http://abs.twimg.com/images/themes/theme1/bg.png',\n",
       " 'profile_background_image_url_https': 'https://abs.twimg.com/images/themes/theme1/bg.png',\n",
       " 'profile_background_tile': False,\n",
       " 'profile_image_url': 'http://pbs.twimg.com/profile_images/451042428229672960/S5_-HSJV_normal.jpeg',\n",
       " 'profile_image_url_https': 'https://pbs.twimg.com/profile_images/451042428229672960/S5_-HSJV_normal.jpeg',\n",
       " 'profile_link_color': '1DA1F2',\n",
       " 'profile_location': None,\n",
       " 'profile_sidebar_border_color': 'C0DEED',\n",
       " 'profile_sidebar_fill_color': 'DDEEF6',\n",
       " 'profile_text_color': '333333',\n",
       " 'profile_use_background_image': True,\n",
       " 'protected': False,\n",
       " 'screen_name': 'shaileshreddyp',\n",
       " 'status': {'contributors': None,\n",
       "  'coordinates': None,\n",
       "  'created_at': 'Wed Aug 02 18:04:57 +0000 2017',\n",
       "  'entities': {'hashtags': [],\n",
       "   'symbols': [],\n",
       "   'urls': [],\n",
       "   'user_mentions': [{'id': 471287735,\n",
       "     'id_str': '471287735',\n",
       "     'indices': [3, 15],\n",
       "     'name': 'Gary Lineker',\n",
       "     'screen_name': 'GaryLineker'},\n",
       "    {'id': 96951800,\n",
       "     'id_str': '96951800',\n",
       "     'indices': [67, 79],\n",
       "     'name': 'FC Barcelona 🏆🏆',\n",
       "     'screen_name': 'FCBarcelona'}]},\n",
       "  'favorite_count': 0,\n",
       "  'favorited': False,\n",
       "  'geo': None,\n",
       "  'id': 892808451675402241,\n",
       "  'id_str': '892808451675402241',\n",
       "  'in_reply_to_screen_name': None,\n",
       "  'in_reply_to_status_id': None,\n",
       "  'in_reply_to_status_id_str': None,\n",
       "  'in_reply_to_user_id': None,\n",
       "  'in_reply_to_user_id_str': None,\n",
       "  'is_quote_status': False,\n",
       "  'lang': 'en',\n",
       "  'place': None,\n",
       "  'retweet_count': 43007,\n",
       "  'retweeted': False,\n",
       "  'retweeted_status': {'contributors': None,\n",
       "   'coordinates': None,\n",
       "   'created_at': 'Wed Aug 02 17:11:34 +0000 2017',\n",
       "   'entities': {'hashtags': [],\n",
       "    'symbols': [],\n",
       "    'urls': [],\n",
       "    'user_mentions': [{'id': 96951800,\n",
       "      'id_str': '96951800',\n",
       "      'indices': [50, 62],\n",
       "      'name': 'FC Barcelona 🏆🏆',\n",
       "      'screen_name': 'FCBarcelona'}]},\n",
       "   'favorite_count': 81216,\n",
       "   'favorited': False,\n",
       "   'geo': None,\n",
       "   'id': 892795020411097089,\n",
       "   'id_str': '892795020411097089',\n",
       "   'in_reply_to_screen_name': None,\n",
       "   'in_reply_to_status_id': None,\n",
       "   'in_reply_to_status_id_str': None,\n",
       "   'in_reply_to_user_id': None,\n",
       "   'in_reply_to_user_id_str': None,\n",
       "   'is_quote_status': False,\n",
       "   'lang': 'en',\n",
       "   'place': None,\n",
       "   'retweet_count': 43007,\n",
       "   'retweeted': False,\n",
       "   'source': '<a href=\"http://twitter.com/download/iphone\" rel=\"nofollow\">Twitter for iPhone</a>',\n",
       "   'text': \"Oh Neymar, there is only one direction to go from @FCBarcelona and that's backwards.\",\n",
       "   'truncated': False},\n",
       "  'source': '<a href=\"http://twitter.com/download/android\" rel=\"nofollow\">Twitter for Android</a>',\n",
       "  'text': \"RT @GaryLineker: Oh Neymar, there is only one direction to go from @FCBarcelona and that's backwards.\",\n",
       "  'truncated': False},\n",
       " 'statuses_count': 4,\n",
       " 'time_zone': None,\n",
       " 'translator_type': 'none',\n",
       " 'url': None,\n",
       " 'utc_offset': None,\n",
       " 'verified': False}"
      ]
     },
     "execution_count": 16,
     "metadata": {},
     "output_type": "execute_result"
    }
   ],
   "source": [
    "user._json"
   ]
  },
  {
   "cell_type": "code",
   "execution_count": 17,
   "metadata": {},
   "outputs": [
    {
     "data": {
      "text/plain": [
       "'Shailesh Reddy'"
      ]
     },
     "execution_count": 17,
     "metadata": {},
     "output_type": "execute_result"
    }
   ],
   "source": [
    "user._json['name']"
   ]
  },
  {
   "cell_type": "code",
   "execution_count": 18,
   "metadata": {},
   "outputs": [
    {
     "data": {
      "text/plain": [
       "'shaileshreddyp'"
      ]
     },
     "execution_count": 18,
     "metadata": {},
     "output_type": "execute_result"
    }
   ],
   "source": [
    "user._json['screen_name']"
   ]
  },
  {
   "cell_type": "markdown",
   "metadata": {},
   "source": [
    "streaming data from twitter"
   ]
  },
  {
   "cell_type": "markdown",
   "metadata": {},
   "source": [
    "first create a stream listener class and say what data should be obtained during streaming"
   ]
  },
  {
   "cell_type": "code",
   "execution_count": 20,
   "metadata": {},
   "outputs": [],
   "source": [
    "class MyStreamListener(tweepy.StreamListener):\n",
    "    def on_status(self, status):\n",
    "        print(status.text)"
   ]
  },
  {
   "cell_type": "markdown",
   "metadata": {},
   "source": [
    "create stream listener object of the above class"
   ]
  },
  {
   "cell_type": "code",
   "execution_count": 24,
   "metadata": {},
   "outputs": [],
   "source": [
    "myStreamListener = MyStreamListener()"
   ]
  },
  {
   "cell_type": "markdown",
   "metadata": {},
   "source": [
    "create stream with our credentials"
   ]
  },
  {
   "cell_type": "code",
   "execution_count": 22,
   "metadata": {},
   "outputs": [],
   "source": [
    "myStream = tweepy.Stream(auth = api.auth, listener=myStreamListener)"
   ]
  },
  {
   "cell_type": "markdown",
   "metadata": {},
   "source": [
    "now we can use stream to collect data from filter in run-time"
   ]
  },
  {
   "cell_type": "code",
   "execution_count": null,
   "metadata": {},
   "outputs": [
    {
     "name": "stdout",
     "output_type": "stream",
     "text": [
      "RT @Loddonbrewery: Anthony Bourdain was a brilliant, brilliant writer and I don't think anyone has ever nailed beer culture as well as he d…\n",
      "RT @andrewzimmern: The god of my understanding is forgiving and loving, not punitive, not vengeful. My god has a special and loving place f…\n",
      "RT @roblee4: Fuck you. https://t.co/rRm0MU2Em6\n",
      "RT @PMSportsNews: NBA Player ages:\n",
      "LeBron James- 33\n",
      "Dwyane Wade- 36\n",
      "Carmelo Anthony- 34\n",
      "Andre Iguodala- 34\n",
      "Chris Paul- 33\n",
      "Paul Millsap- 33…\n",
      "RT @ExpansionMx: 🇲🇽 México es un país magnificamente hermoso, pero profundamente herido, profundamente torturado donde la brecha entre rico…\n",
      "RT @kingkaui: Anthony Bourdain’s field notes from his visit to Hawai’i... honestly one of the most beautiful pieces I’ve read from a foreig…\n",
      "RT @JudicialWatch: JW is fighting w/ the State Dept for all of the records re: JW’s FOIA lawsuit for emails found by the FBI on Anthony Wei…\n",
      "RT @glowingrec: Two different, but acceptable responses from men of the cloth re: Anthony Bourdain https://t.co/sQiEGjNxkR\n",
      "RT @SteveMotley: Right on the Money Alex! https://t.co/86BqsXl4R8\n",
      "Anthony Bourdains ends tonight's Berlin episode with a chilling quote: #PartsUnknown https://t.co/gC3eQVziJ7\n",
      "uma saudade — Anthony https://t.co/ommUy8MF9Y\n",
      "Beautiful quote by #AnthonyHinton @SuperSoulSunday https://t.co/O66kWUe3y5\n",
      "RT @roblee4: Fuck you. https://t.co/rRm0MU2Em6\n",
      "Anthony Bourdain is a guest judge on this episode and I’m just :(\n",
      "RT @picardonhealth: In 2010, Anthony Bourdain talked about to @CBCDay6 about his #mentalhealth struggles https://t.co/f596TzgFbg via @SickN…\n",
      "RT @andytelasai: The opening to Anthony Bourdain's last Parts Unknown, directed by his girlfriend Asia Argento and shot by his favorite cin…\n",
      "RT @wilkinebrutus: Dear @netflix, seasons 1 through 8 of Anthony Bourdain’s \"Parts Unknown\" will leave Netflix on June 16, 2018. Can you ad…\n",
      "Ppl having babies after being together like 2 yrs meanwhile Anthony &amp; I been together 5............... https://t.co/uqsFdkSqTe\n",
      "RT @glrhn: Lalu gw email kayak gini.\n",
      "\n",
      "Let's help @tribunnews to realize how shitty their news are by sending email with subject \"Berita kal…\n",
      "RT @glowingrec: Two different, but acceptable responses from men of the cloth re: Anthony Bourdain https://t.co/sQiEGjNxkR\n",
      "RT @JudicialWatch: JW is still fighting w/ the State Dept for all of the records re: JW’s FOIA lawsuit for emails found by the FBI on Antho…\n",
      "RT @glowingrec: Two different, but acceptable responses from men of the cloth re: Anthony Bourdain https://t.co/sQiEGjNxkR\n",
      "RT @Loddonbrewery: Anthony Bourdain was a brilliant, brilliant writer and I don't think anyone has ever nailed beer culture as well as he d…\n",
      "RT @SickNotWeak: According to @heylandsberg on this #Landsblog, there's something different about Anthony Bourdain's death. Many are concer…\n",
      "RT @JudicialWatch: JW is fighting w/ the State Dept for all of the records re: JW’s FOIA lawsuit for emails found by the FBI on Anthony Wei…\n",
      "RT @Franklin_Graham: I was shocked to hear that Anthony Bourdain committed suicide. It was fascinating to see where he was &amp; what he was ea…\n",
      "RT @Slate: Anthony Bourdain really, really hated Henry Kissinger https://t.co/o2VJ7cOKG8 https://t.co/WGJTOMkN59\n",
      "RT @hey_ciara: If you’re twenty-two, physically fit, hungry to learn and be better, I urge you to travel as far and as widely as possible.…\n",
      "RT @glowingrec: Two different, but acceptable responses from men of the cloth re: Anthony Bourdain https://t.co/sQiEGjNxkR\n",
      "RT @pattonoswalt: When @MeredthSalenger and I honeymooned in Paris our friends &amp; family put together lists of places to eat and things to d…\n",
      "RT @glowingrec: Two different, but acceptable responses from men of the cloth re: Anthony Bourdain https://t.co/sQiEGjNxkR\n",
      "RT @robertontenient: rest in peace anthony bourdain\n",
      "Hosier Lane, Melbourne. Paying respects to Anthony Bourdain. https://t.co/SSVxItfjpP\n",
      "RT @RadioFarda_Eng: The death of @Bourdain surprised many #Iranians. The #Iran episode of @PartsUnknownCNN shed a different light on the co…\n",
      "Still processing the death of this beloved storyteller. Bourdain‘s work did and will continue to encompass one of t… https://t.co/sqIqFszkqp\n",
      "RT @CNN: Former President Obama says he’ll always remember the meal he shared with Anthony Bourdain in Vietnam: “He taught us about food —…\n",
      "RT @wilkinebrutus: Anthony Bourdain on humanity:\n",
      "\"Meals make the society, hold the fabric together in lots of ways that were charming and i…\n",
      "RT @Loddonbrewery: Anthony Bourdain was a brilliant, brilliant writer and I don't think anyone has ever nailed beer culture as well as he d…\n",
      "RT @ExpansionMx: 🇲🇽 México es un país magnificamente hermoso, pero profundamente herido, profundamente torturado donde la brecha entre rico…\n",
      "@BillSimmons Only time I would say this but watch CNN. The Anthony Bourdain tribute was great. Parts Unknown was a must every Sunday\n",
      "RT @MatPatGT: Depression is not a decision. It's a disorder. \n",
      "\n",
      "It doesn't care who you are or how successful you might be. The loss of Anth…\n",
      "RT @kingkaui: Anthony Bourdain’s field notes from his visit to Hawai’i... honestly one of the most beautiful pieces I’ve read from a foreig…\n",
      "RT @mydogizsmarter: Kate Spade didn't \"leave\" her daughter. Anthony Bourdain didn't \"throw it all away\". Severe depression leads you to a p…\n",
      "RT @adage: This is the saddest, simplest and most perfect Anthony Bourdain tribute https://t.co/5mc0raWg4B https://t.co/A8kZI8zb3k\n",
      "RT @ajplus: Listen to Anthony Bourdain's powerful words about covering Palestine. https://t.co/c3XoDzKE8X\n",
      "RT @PMSportsNews: NBA Player ages:\n",
      "LeBron James- 33\n",
      "Dwyane Wade- 36\n",
      "Carmelo Anthony- 34\n",
      "Andre Iguodala- 34\n",
      "Chris Paul- 33\n",
      "Paul Millsap- 33…\n",
      "RT @glowingrec: Two different, but acceptable responses from men of the cloth re: Anthony Bourdain https://t.co/sQiEGjNxkR\n",
      "RT @KarenStrassman: This.... https://t.co/lKLHxGomnm\n",
      "RT @MattDentler: The last episode of PARTS UNKNOWN is just as much an ode to Wong Kar-Wai as it is to Chinese cuisine. Must see for film lo…\n",
      "Anthony Bourdain: Serving Up Inclusion \n",
      "#AnthonyBourdain\n",
      "\n",
      "https://t.co/hwHT5w5yns\n",
      "As vezes tenho vontade de chutar a cara do anthony. \n",
      "Não sei como ele consegue pqp\n",
      "RT @EthicalTruth3: Here is Anthony Bourdain’s gf, Asia Argento, dancing and kissing Hugo Clement. https://t.co/n92wIyjcGM\n",
      "RT @VeronicaBastos1: Ola de suicidios. En tres días la diseñadora Kate Spade, ayer Inés Zorreguita, hermana de la reina Máxima de Holanda y…\n",
      "@OANN  @TuckerCarlson  @VOANews  ? ? ? https://t.co/9keY48kccg\n",
      "RT @jenndangerous: Anthony Bourdain on Chicago always stirs my heart: https://t.co/2ZHJp67C1W\n",
      "RT @Evan_Rosenfeld: CNN: @jrezaian spoke with @brianstelter about how Bourdain's legions of fans should continue to honor the globe-trottin…\n",
      "RT @nala_game: When that man said collectors edition for fallout and said “the map fucking glows in the dark”, I knew Anthony was already p…\n",
      "Nice tribute to Anthony Bourdain. RIP\n",
      "https://t.co/A2GGvEEttp\n",
      "\"I felt like I had to appear 'together,' and that being grateful for my success meant I wasn’t allowed to feel so b… https://t.co/uMtPB6YDjm\n",
      "RT @animalgourmet: Para @Bourdain, aprender a cocinar es tan fundamental y básico como aprender a limpiarnos el trasero. Tony nos deja esta…\n",
      "RT @toastasaurus: I'm sorry that such levels of pain is a country we shared. We have all lost an ambassador today. Anyways, I guess that's…\n",
      "RT @KimsMom3: Hey Trump: I didn’t like you within the first five seconds you tried to console the families of SFHS victims. HOW WILL YOU PR…\n",
      "RT @FilthyArt_: I can’t lie, Anthony Bourdain’s death rattles me. The same way Robin Williams’ death did and Kate Spade’s. Because they’re…\n",
      "RT @Evan_Rosenfeld: CNN: @jrezaian spoke with @brianstelter about how Bourdain's legions of fans should continue to honor the globe-trottin…\n",
      "@JasonMillerinDC Fuck you Anthony Bourdain hated your ilk\n",
      "RT @glowingrec: Two different, but acceptable responses from men of the cloth re: Anthony Bourdain https://t.co/sQiEGjNxkR\n",
      "RT @ctsbulls: I am locked in to CNN watching Anthony Bourdain’s show/special and I still can’t believe he’s gone.  I’m numb.  What a talent…\n",
      "RT @glowingrec: Two different, but acceptable responses from men of the cloth re: Anthony Bourdain https://t.co/sQiEGjNxkR\n",
      "#Anthony #Bourdain Was 'Giddy' Just a Week Before His Death, Says Longtime #CNN Coworker https://t.co/fCt9J4zn7T https://t.co/0XxSkx7ZTX\n",
      "RT @Slate: Anthony Bourdain really, really hated Henry Kissinger https://t.co/o2VJ7cOKG8 https://t.co/WGJTOMkN59\n",
      "RT @kathygriffin: Fox &amp; Friends host refers to Trump and Kim Jong Un as \"two dictators\" - Anthony Scaramucci doesn't bat an eye and keeps o…\n",
      "RT @ExpansionMx: 🇲🇽 México es un país magnificamente hermoso, pero profundamente herido, profundamente torturado donde la brecha entre rico…\n",
      "RT @vaauux: \"I should’ve died in my 20s. I became successful in my 40s. I became a dad in my 50s. I feel like I’ve stolen a car — a really…\n",
      "ow 0061: \"Rest Easy, Anthony\" is ready to listen to now on any of your favorite podcatchers. Give it a listen:https://t.co/Gnq9iy6lRt\n",
      "RT @washingtonpost: \"In an age of celebrities, Anthony Bourdain fought for the underdog\" https://t.co/Da8JIP0Hnv\n"
     ]
    }
   ],
   "source": [
    "myStream.filter(track=['anthony'])"
   ]
  },
  {
   "cell_type": "markdown",
   "metadata": {},
   "source": [
    "after completing the streaming, we can dis-connect the stream by below command"
   ]
  },
  {
   "cell_type": "code",
   "execution_count": 23,
   "metadata": {},
   "outputs": [],
   "source": [
    "myStream.disconnect()"
   ]
  },
  {
   "cell_type": "markdown",
   "metadata": {},
   "source": [
    "after completing the usage of twitter API, delete the application by going to application management page."
   ]
  }
 ],
 "metadata": {
  "kernelspec": {
   "display_name": "Python 3",
   "language": "python",
   "name": "python3"
  },
  "language_info": {
   "codemirror_mode": {
    "name": "ipython",
    "version": 3
   },
   "file_extension": ".py",
   "mimetype": "text/x-python",
   "name": "python",
   "nbconvert_exporter": "python",
   "pygments_lexer": "ipython3",
   "version": "3.6.3"
  }
 },
 "nbformat": 4,
 "nbformat_minor": 2
}
